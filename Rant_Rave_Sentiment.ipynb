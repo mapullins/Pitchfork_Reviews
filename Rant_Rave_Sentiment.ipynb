{
 "cells": [
  {
   "cell_type": "markdown",
   "metadata": {},
   "source": [
    "# Introduction"
   ]
  },
  {
   "cell_type": "markdown",
   "metadata": {},
   "source": [
    "The purpose of this notebook is to construct a model that accurately predicts the sentiment of Pitchfork music reviews based on the content of the review. To start, the scope of the problem will be restricted to polarized reviews, i.e. either they loved the album or they hated it.\n",
    "\n",
    "If you're not familiar with Pitchfork (https://pitchfork.com/), it's a website that reviews new albums and reports on other music related things. It tilts more towards a hipster/indie crowd, and they select the albums that they review (leading to a higher average score than one might expect). Album reviews are given a score from $0$ to $10$ (decimal increments of $.1$). Albums that achieve a score of $8+$ can be filtered (https://pitchfork.com/best/high-scoring-albums/), so in this notebook a positive review is defined as any review with an $8+$ review.\n",
    "\n",
    "What determines a negative review is debatable. This will be covered when the data is examined (slightly) more closely."
   ]
  },
  {
   "cell_type": "code",
   "execution_count": 1,
   "metadata": {},
   "outputs": [],
   "source": [
    "#Data handling\n",
    "import numpy as np\n",
    "import pandas as pd\n",
    "\n",
    "#Graphing\n",
    "import matplotlib as mlt\n",
    "import matplotlib.pyplot as plt\n",
    "import seaborn as sns\n",
    "\n",
    "#General\n",
    "import pickle\n",
    "import time\n",
    "import datetime\n",
    "from collections import Counter\n",
    "\n",
    "#Words\n",
    "import nltk\n",
    "import re\n",
    "import textblob\n",
    "\n",
    "#Model prep\n",
    "from sklearn.model_selection import train_test_split, StratifiedKFold\n",
    "from sklearn.feature_extraction.text import TfidfVectorizer\n",
    "from sklearn.feature_selection import f_classif, SelectKBest\n",
    "from sklearn.pipeline import Pipeline\n",
    "\n",
    "#Learning\n",
    "from sklearn.metrics import classification_report, confusion_matrix\n",
    "from sklearn.linear_model import LogisticRegression\n",
    "from sklearn.svm import SVC\n",
    "\n",
    "#Metrics\n",
    "from sklearn.metrics import plot_roc_curve"
   ]
  },
  {
   "cell_type": "code",
   "execution_count": 2,
   "metadata": {},
   "outputs": [],
   "source": [
    "#Load Data\n",
    "with open('Pitchfork_df.pickle', 'rb') as f:\n",
    "    df = pickle.load(f)"
   ]
  },
  {
   "cell_type": "markdown",
   "metadata": {},
   "source": [
    "# Data Cleaning"
   ]
  },
  {
   "cell_type": "code",
   "execution_count": 3,
   "metadata": {},
   "outputs": [],
   "source": [
    "#Take out if there is a featured track and add it as a separate feature\n",
    "df['featured_track'] = df.review.apply(lambda x: len(re.findall(r'Featured Tracks\\:Play Track', x)))\n",
    "df['review'] = df.review.apply(lambda x: re.sub(r'Featured Tracks\\:Play Track', '', x))\n",
    "\n",
    "#Check whether there is a buy offer\n",
    "df['buy_offer'] = df.review.apply(lambda x: len(re.findall(r'Buy\\:.*', x)))\n",
    "df['review'] = df.review.apply(lambda x: re.sub(r'Buy\\:.*\\n.*', '', x))\n",
    "\n",
    "#Get rid of closing lines\n",
    "df['review'] = df.review.apply(lambda x: re.sub(r'Back to home', '', x))\n",
    "df['review'] = df.review.apply(lambda x: re.sub(r'Catch up every Saturday.*', '', x))\n",
    "df['review'] = df.review.apply(lambda x: re.sub(r'Get the Sunday Review.*','', x))\n",
    "\n",
    "#Record if the review is a rave and length of review\n",
    "df['rave'] = df.score.apply(lambda x: int(x >= 8))\n",
    "df['review_count'] = df.review.apply(lambda x: len(x.split()))"
   ]
  },
  {
   "cell_type": "code",
   "execution_count": 4,
   "metadata": {},
   "outputs": [],
   "source": [
    "#Function to clean up review feature in one sweep\n",
    "def pos_transform(review):\n",
    "    \n",
    "    \"\"\"This strips punctuation, changes contractions, removes certain words, removes most parts of speech besides nouns, verbs, adjectives, and adverbs, \n",
    "    lemmatizes all words according to their part of speech, and gets rid of all short words (len < 3)\"\"\"\n",
    "    \n",
    "    #Strip punctuation\n",
    "    review = re.sub(r'\\W', ' ', review)\n",
    "    \n",
    "    #Contractions to split (and other words needing replacement)\n",
    "    replace_dict = {\"couldn\": 'could not', \"Couldn\": 'could not', \"shouldn\": 'should not', \n",
    "                \"Shouldn\": 'should not', \"isn\": 'is not', \"Isn\": 'is not', \"didn\": 'did not', \n",
    "                \"Didn\": 'did not', \"won t\": 'will not', \"Won t\": 'will not', \"wouldn\": 'would not', \n",
    "                \"Wouldn\": 'would not', \"Wasn\": 'was not', \"wasn\": 'was not', \"weren\": 'were not',\n",
    "                \"Weren\": 'were not', \"can t\": 'cannot', \"can not\": 'cannot', \"Can t\": 'cannot', \n",
    "                \"Aren\": 'are not', \"aren\": 'are not', \"don t\": 'do not', \"Don t\": 'do not', \n",
    "                \"doesn\": 'does not', \"Doesn\": 'does not', \"haven t \": 'have not', \"Haven t\": 'have not', \n",
    "                \"Hasn\": 'has not', \"hasn\": 'has not', \"Hadn\": 'had not', \"hadn\": 'had not', \n",
    "                   'no': 'not', 'No': 'not', \n",
    "                   'from': '', 'with': '', 'later': '',\n",
    "                   'Ain': 'are not', 'ain': 'are not', 'dox92t': ''} \n",
    "    \n",
    "    #Replace words\n",
    "    pattern = re.compile(r'\\b(' + '|'.join(replace_dict.keys()) + r')\\b')\n",
    "    review = pattern.sub(lambda x: replace_dict[x.group()], review)\n",
    "\n",
    "    \n",
    "    #List of of POS to discard\n",
    "    speech = ['CC', 'CD', 'DT', 'EX', 'FW', 'LS', 'NNP', 'NNPS', 'PDT', 'POS', 'PRP', 'PRP$', 'RP', 'SYM', \n",
    "             'TO', 'WB$', 'IN', 'MD', 'WDT', 'WP']\n",
    "    \n",
    "    #Tokenize text and label with POS\n",
    "    tokens = nltk.tokenize.word_tokenize(review)\n",
    "    tokens = nltk.pos_tag(tokens)\n",
    "    \n",
    "    #Get rid of unwanted POS, but keep labels for now\n",
    "    tokens = [toke for toke in tokens if toke[1] not in speech]\n",
    "    \n",
    "    #Change the POS tag so that lemmatization can be used effectively\n",
    "    pos_tag_dict = {'NN': 'n', 'NNS': 'n', 'JJ': 'a', 'JJR': 'a', 'JJS': 'a', 'RB': 'r', 'RBR': 'r', 'RBS': 'r', \n",
    "                   'VB': 'v', 'VBD': 'v', 'VBG': 'v', 'VBP': 'v', 'VBZ': 'v', 'VBN': 'v'}\n",
    "    tokens = [(toke[0], pos_tag_dict.get(toke[1], 'n')) for toke in tokens]\n",
    "    \n",
    "    #Lemmatize tokens\n",
    "    lm = nltk.stem.WordNetLemmatizer()\n",
    "    tokens = [lm.lemmatize(toke[0], pos = toke[1]) for toke in tokens]\n",
    "    \n",
    "    #Get rid of short words and repetition\n",
    "    tokens = [toke for toke in tokens if len(toke)>2]\n",
    "\n",
    "    #Join text back together and return\n",
    "    review = ' '.join(tokens)\n",
    "    \n",
    "    \n",
    "    return review"
   ]
  },
  {
   "cell_type": "code",
   "execution_count": 5,
   "metadata": {},
   "outputs": [],
   "source": [
    "#Clean up review\n",
    "df['review'] = df.review.apply(pos_transform)"
   ]
  },
  {
   "cell_type": "markdown",
   "metadata": {},
   "source": [
    "# Brief Data Exploration"
   ]
  },
  {
   "cell_type": "markdown",
   "metadata": {},
   "source": [
    "The main purpose here is to quickly examine the data and see if there is a natural way to define the point cut-off for a negative review. Looking at simple statistics about the scores, the third quartile is $7.8$, which is slightly lower than the previously decided $8$ cut-off. It makes the most sense to define a negative review to be slightly below the first quartile of $6.5$"
   ]
  },
  {
   "cell_type": "code",
   "execution_count": 6,
   "metadata": {},
   "outputs": [
    {
     "data": {
      "text/plain": [
       "count    22794.000000\n",
       "mean         7.060906\n",
       "std          1.242532\n",
       "min          0.000000\n",
       "25%          6.500000\n",
       "50%          7.300000\n",
       "75%          7.800000\n",
       "max         10.000000\n",
       "Name: score, dtype: float64"
      ]
     },
     "execution_count": 6,
     "metadata": {},
     "output_type": "execute_result"
    }
   ],
   "source": [
    "df.score.describe()"
   ]
  },
  {
   "cell_type": "code",
   "execution_count": 7,
   "metadata": {},
   "outputs": [],
   "source": [
    "#Create a binary donut chart\n",
    "def binary_donut(cut_off):\n",
    "    temp_df = df[(df.score >= 8) | (df.score <= cut_off)]\n",
    "    \n",
    "    pre_pie = Counter(temp_df.rave)\n",
    "    pre_pie = {'rave': pre_pie[1], 'rant': pre_pie[0]}\n",
    "    \n",
    "    #Create pie chart\n",
    "    plt.pie(x = pre_pie.values(),\n",
    "            labels = pre_pie.keys(),\n",
    "            colors = ['#ff9999', '#66b3ff'],\n",
    "            autopct = '%1.1f%%',\n",
    "            pctdistance = .85,\n",
    "            startangle = 90);\n",
    "    \n",
    "    #Make the pie a donut by covering up part\n",
    "    circle = plt.Circle((0,0), .7, fc = 'white')\n",
    "    fig = plt.gcf()\n",
    "    \n",
    "    fig.gca().add_artist(circle)\n",
    "    plt.axis('equal')\n",
    "    plt.tight_layout()"
   ]
  },
  {
   "cell_type": "markdown",
   "metadata": {},
   "source": [
    "Defining a negative review as one with a score of $6.2$ or fewer results in a similar number of negative reviews as compared to positive reviews (as seen below)."
   ]
  },
  {
   "cell_type": "code",
   "execution_count": 8,
   "metadata": {},
   "outputs": [
    {
     "data": {
      "image/png": "[encoded data removed]",
      "text/plain": [
       "<Figure size 432x432 with 1 Axes>"
      ]
     },
     "metadata": {},
     "output_type": "display_data"
    }
   ],
   "source": [
    "#Plot donut graph\n",
    "plt.figure(figsize = (6,6))\n",
    "binary_donut(6.2)\n",
    "plt.title('Percent of Rave and Rant Reviews');"
   ]
  },
  {
   "cell_type": "code",
   "execution_count": 9,
   "metadata": {},
   "outputs": [],
   "source": [
    "#Create a new DataFrame of polarized reviews\n",
    "model_df = df[(df.score >= 8) | (df.score <= 6.2)].copy()"
   ]
  },
  {
   "cell_type": "markdown",
   "metadata": {},
   "source": [
    "# Rave/Rant Prediction Training"
   ]
  },
  {
   "cell_type": "code",
   "execution_count": 10,
   "metadata": {},
   "outputs": [],
   "source": [
    "#Split data into train and test set\n",
    "X = model_df.review\n",
    "y = model_df.rave\n",
    "X_train, X_test, y_train, y_test = train_test_split(X, y, test_size = .2, random_state = 0)\n",
    "\n",
    "#Save the testing indices for later\n",
    "y_test_indices = y_test.index\n",
    "\n",
    "#Change to arrays\n",
    "X_train, X_test, y_train, y_test = np.array(X_train), np.array(X_test), np.array(y_train), np.array(y_test)\n",
    "\n",
    "#Get the 5-fold cross validation ready\n",
    "skf = StratifiedKFold(n_splits = 5, shuffle = True, random_state = 0)"
   ]
  },
  {
   "cell_type": "markdown",
   "metadata": {},
   "source": [
    "## Logistic Regression Model"
   ]
  },
  {
   "cell_type": "code",
   "execution_count": 11,
   "metadata": {},
   "outputs": [],
   "source": [
    "#Pipeline Layer 1 - Vectorizer\n",
    "vect = TfidfVectorizer(strip_accents = 'unicode',\n",
    "                      ngram_range = (1,3), \n",
    "                      min_df = 3)\n",
    "\n",
    "#Pipeline Layer 2 - Feature Selection\n",
    "sel = SelectKBest(score_func = f_classif,\n",
    "                 k = 'all')\n",
    "\n",
    "#Pipeline Layer 3 - Model\n",
    "log_model = LogisticRegression(C = 300, \n",
    "                           solver = 'saga', \n",
    "                           random_state = 0,\n",
    "                              max_iter = 1000)\n",
    "\n",
    "#Logistic Regression Pipeline\n",
    "log_pipe = Pipeline([('vector', vect), \n",
    "                ('select', sel), \n",
    "                ('log', log_model)])"
   ]
  },
  {
   "cell_type": "code",
   "execution_count": 12,
   "metadata": {},
   "outputs": [
    {
     "name": "stdout",
     "output_type": "stream",
     "text": [
      "[0.8852126941255908, 0.8798109385550303, 0.8757596218771101, 0.8919648885887913, 0.887238352464551]\n",
      "0.8839972991222147\n",
      "158.3538842201233\n"
     ]
    }
   ],
   "source": [
    "st = time.time()\n",
    "log_scores = []\n",
    "\n",
    "#K Fold Testing\n",
    "for train_index, val_index in skf.split(X_train, y_train):\n",
    "    \n",
    "    #Split data\n",
    "    X_train_split, X_val = X_train[train_index], X_train[val_index]\n",
    "    y_train_split, y_val = y_train[train_index], y_train[val_index]\n",
    "    \n",
    "    #Apply pipeline\n",
    "    log_pipe.fit(X_train_split, y_train_split)\n",
    "    \n",
    "    #Track accuracy on validation\n",
    "    log_scores.append(log_pipe.score(X_val, y_val))\n",
    "    \n",
    "print(log_scores)\n",
    "print(np.mean(log_scores))\n",
    "print(time.time() - st)"
   ]
  },
  {
   "cell_type": "code",
   "execution_count": 13,
   "metadata": {},
   "outputs": [
    {
     "data": {
      "text/plain": [
       "Pipeline(steps=[('vector',\n",
       "                 TfidfVectorizer(min_df=3, ngram_range=(1, 3),\n",
       "                                 strip_accents='unicode')),\n",
       "                ('select', SelectKBest(k='all')),\n",
       "                ('log',\n",
       "                 LogisticRegression(C=300, max_iter=1000, random_state=0,\n",
       "                                    solver='saga'))])"
      ]
     },
     "execution_count": 13,
     "metadata": {},
     "output_type": "execute_result"
    }
   ],
   "source": [
    "log_pipe.fit(X_train, y_train)"
   ]
  },
  {
   "cell_type": "markdown",
   "metadata": {},
   "source": [
    "## SVM Model"
   ]
  },
  {
   "cell_type": "code",
   "execution_count": 14,
   "metadata": {},
   "outputs": [],
   "source": [
    "#Pipeline Layer 1 - Vectorizer\n",
    "vect = TfidfVectorizer(strip_accents = 'unicode',\n",
    "                      ngram_range = (1,3), \n",
    "                      min_df = 3)\n",
    "\n",
    "#Pipeline Layer 2 - Feature Selection\n",
    "sel = SelectKBest(score_func = f_classif,\n",
    "                 k = 'all')\n",
    "\n",
    "#Pipeline Layer 3 - Model\n",
    "svm_model = SVC(kernel = 'linear', \n",
    "               C = 3, \n",
    "               degree = 2,\n",
    "               gamma = 'scale')\n",
    "\n",
    "#SVM Pipeline\n",
    "svm_pipe = Pipeline([('vector', vect), \n",
    "                ('select', sel), \n",
    "                ('svm', svm_model)])"
   ]
  },
  {
   "cell_type": "code",
   "execution_count": 15,
   "metadata": {},
   "outputs": [
    {
     "name": "stdout",
     "output_type": "stream",
     "text": [
      "[0.8825118163403106, 0.8811613774476705, 0.8784604996623903, 0.8926401080351114, 0.8818365968939905]\n",
      "0.8833220796758947\n",
      "822.0414135456085\n"
     ]
    }
   ],
   "source": [
    "st = time.time()\n",
    "svm_scores = []\n",
    "\n",
    "#K Fold Testing\n",
    "for train_index, val_index in skf.split(X_train, y_train):\n",
    "    \n",
    "    #Split data\n",
    "    X_train_split, X_val = X_train[train_index], X_train[val_index]\n",
    "    y_train_split, y_val = y_train[train_index], y_train[val_index]\n",
    "    \n",
    "    #Apply pipeline\n",
    "    svm_pipe.fit(X_train_split, y_train_split)\n",
    "    \n",
    "    #Track accuracy on validation\n",
    "    svm_scores.append(svm_pipe.score(X_val, y_val))\n",
    "    \n",
    "print(svm_scores)\n",
    "print(np.mean(svm_scores))\n",
    "print(time.time() - st)"
   ]
  },
  {
   "cell_type": "code",
   "execution_count": 16,
   "metadata": {},
   "outputs": [
    {
     "data": {
      "text/plain": [
       "Pipeline(steps=[('vector',\n",
       "                 TfidfVectorizer(min_df=3, ngram_range=(1, 3),\n",
       "                                 strip_accents='unicode')),\n",
       "                ('select', SelectKBest(k='all')),\n",
       "                ('svm', SVC(C=3, degree=2, kernel='linear'))])"
      ]
     },
     "execution_count": 16,
     "metadata": {},
     "output_type": "execute_result"
    }
   ],
   "source": [
    "svm_pipe.fit(X_train, y_train)"
   ]
  },
  {
   "cell_type": "markdown",
   "metadata": {},
   "source": [
    "# Rave/Rant Prediction"
   ]
  },
  {
   "cell_type": "markdown",
   "metadata": {},
   "source": [
    "## Models"
   ]
  },
  {
   "cell_type": "code",
   "execution_count": 17,
   "metadata": {},
   "outputs": [
    {
     "name": "stdout",
     "output_type": "stream",
     "text": [
      "Accruacy for the logistic regression model is 0.8936285097192225\n",
      "\n",
      "[[783 108]\n",
      " [ 89 872]]\n",
      "\n",
      "              precision    recall  f1-score   support\n",
      "\n",
      "           0       0.90      0.88      0.89       891\n",
      "           1       0.89      0.91      0.90       961\n",
      "\n",
      "    accuracy                           0.89      1852\n",
      "   macro avg       0.89      0.89      0.89      1852\n",
      "weighted avg       0.89      0.89      0.89      1852\n",
      "\n"
     ]
    }
   ],
   "source": [
    "log_pred = log_pipe.predict(X_test)\n",
    "\n",
    "print('Accruacy for the logistic regression model is {}'.format(log_pipe.score(X_test, y_test)))\n",
    "print('')\n",
    "print(confusion_matrix(y_test, log_pred))\n",
    "print('')\n",
    "print(classification_report(y_test, log_pred))"
   ]
  },
  {
   "cell_type": "code",
   "execution_count": 18,
   "metadata": {},
   "outputs": [
    {
     "name": "stdout",
     "output_type": "stream",
     "text": [
      "Accruacy for the SVM model is 0.892548596112311\n",
      "\n",
      "[[779 112]\n",
      " [ 87 874]]\n",
      "\n",
      "              precision    recall  f1-score   support\n",
      "\n",
      "           0       0.90      0.87      0.89       891\n",
      "           1       0.89      0.91      0.90       961\n",
      "\n",
      "    accuracy                           0.89      1852\n",
      "   macro avg       0.89      0.89      0.89      1852\n",
      "weighted avg       0.89      0.89      0.89      1852\n",
      "\n"
     ]
    }
   ],
   "source": [
    "svm_pred = svm_pipe.predict(X_test)\n",
    "\n",
    "print('Accruacy for the SVM model is {}'.format(svm_pipe.score(X_test, y_test)))\n",
    "print('')\n",
    "print(confusion_matrix(y_test, svm_pred))\n",
    "print('')\n",
    "print(classification_report(y_test, svm_pred))"
   ]
  },
  {
   "cell_type": "code",
   "execution_count": 19,
   "metadata": {},
   "outputs": [
    {
     "data": {
      "image/png": "[encoded data removed]",
      "text/plain": [
       "<Figure size 432x288 with 1 Axes>"
      ]
     },
     "metadata": {
      "needs_background": "light"
     },
     "output_type": "display_data"
    }
   ],
   "source": [
    "log_roc = plot_roc_curve(log_pipe, X_test, y_test, alpha = .8)\n",
    "\n",
    "ax = plt.gca()\n",
    "svm_roc = plot_roc_curve(svm_pipe, X_test, y_test, ax=ax, alpha = .8)"
   ]
  },
  {
   "cell_type": "markdown",
   "metadata": {},
   "source": [
    "Clearly the SVM model and the logistic regression model both perform well, with neither substantially better than the other. However, logistic regression is much faster to train and test. It's also easier to determine which words and phrases are being given the greatest weight with the logistic regression model.\n",
    "\n",
    "For these reasons, it makes sense to use the logistic regression model as the primary model."
   ]
  },
  {
   "cell_type": "markdown",
   "metadata": {},
   "source": [
    "## Best Words"
   ]
  },
  {
   "cell_type": "markdown",
   "metadata": {},
   "source": [
    "Since the logistic regression model was superior, it's very easy to determine how it weights specific words and phrases. In this section, the preprocessing steps of the pipeline will be used to determine which words and phrases have the largest effect on the model"
   ]
  },
  {
   "cell_type": "code",
   "execution_count": 20,
   "metadata": {},
   "outputs": [],
   "source": [
    "#Vectorizer\n",
    "vect = TfidfVectorizer(strip_accents = 'unicode',\n",
    "                      ngram_range = (1,3), \n",
    "                      min_df = 3)\n",
    "\n",
    "#Model\n",
    "log_model = LogisticRegression(C = 300, \n",
    "                           solver = 'saga', \n",
    "                           random_state = 0,\n",
    "                              max_iter = 1000)"
   ]
  },
  {
   "cell_type": "code",
   "execution_count": 21,
   "metadata": {},
   "outputs": [
    {
     "data": {
      "text/plain": [
       "LogisticRegression(C=300, max_iter=1000, random_state=0, solver='saga')"
      ]
     },
     "execution_count": 21,
     "metadata": {},
     "output_type": "execute_result"
    }
   ],
   "source": [
    "#Vectorize training and test data\n",
    "X_train_vect = vect.fit_transform(X_train)\n",
    "X_test_vect = vect.transform(X_test)\n",
    "\n",
    "#Train model\n",
    "log_model.fit(X_train_vect, y_train)"
   ]
  },
  {
   "cell_type": "code",
   "execution_count": 22,
   "metadata": {},
   "outputs": [],
   "source": [
    "#Create a dictionary converting indices to a word or phrase\n",
    "vect_dict = {num:word for (word, num) in vect.vocabulary_.items()}\n",
    "\n",
    "#Create a list with words/phrases and model coefficients\n",
    "word_list = [(log_model.coef_[0][ind], vect_dict[ind]) for ind in vect_dict.keys()]"
   ]
  },
  {
   "cell_type": "code",
   "execution_count": 23,
   "metadata": {},
   "outputs": [
    {
     "name": "stdout",
     "output_type": "stream",
     "text": [
      "Best words for a rave review: \n",
      "\n",
      "reissue --- 14.004223636763342\n",
      "music --- 12.840987387434724\n",
      "also --- 11.860858283185213\n",
      "most --- 11.40062933404666\n",
      "record --- 9.566376332000683\n",
      "perfect --- 9.521379256500165\n",
      "love --- 9.36694027822453\n",
      "classic --- 9.25935721152005\n",
      "beautiful --- 9.099116247817584\n",
      "jazz --- 8.965103468640788\n",
      "kick --- 8.811117041163628\n",
      "gorgeous --- 8.767297364815756\n",
      "note --- 8.631684136006886\n",
      "ever --- 8.575628125457893\n",
      "strange --- 8.49817583135031\n",
      "accessible --- 8.369251970532263\n",
      "deep --- 8.320404108779943\n",
      "street --- 8.289006399147915\n",
      "full --- 7.986790499692443\n",
      "first --- 7.722891990188054\n",
      "\n",
      "Best words for a rant review: \n",
      "\n",
      "unfortunately --- -20.477517598369065\n",
      "bad --- -19.248173845638384\n",
      "problem --- -18.02432545989805\n",
      "attempt --- -17.183065251187237\n",
      "lack --- -16.276754687561407\n",
      "least --- -16.253216608869142\n",
      "interesting --- -11.832106434174012\n",
      "fail --- -11.292674724349204\n",
      "little --- -10.9965642295181\n",
      "try --- -10.311923575573841\n",
      "bland --- -10.171672112916092\n",
      "dull --- -9.91464115956905\n",
      "generic --- -9.859769323046999\n",
      "nice --- -9.781436400424184\n",
      "pleasant --- -9.313814575544823\n",
      "decent --- -9.069482118325972\n",
      "too often --- -9.004314012084564\n",
      "project --- -8.908195611570765\n",
      "same --- -8.757668222176859\n",
      "too --- -8.631114595548038\n"
     ]
    }
   ],
   "source": [
    "#List the top twenty words for a rave review\n",
    "print('Best words for a rave review: \\n')\n",
    "word_list.sort(reverse = True)\n",
    "for num, word in word_list[:20]:\n",
    "    print('{0} --- {1}'.format(word, num))\n",
    "print('')\n",
    "\n",
    "#List the top twenty words for a rant review\n",
    "print('Best words for a rant review: \\n')\n",
    "word_list.sort()\n",
    "for num, word in word_list[:20]:\n",
    "    print('{0} --- {1}'.format(word, num))"
   ]
  },
  {
   "cell_type": "markdown",
   "metadata": {},
   "source": [
    "This is exciting to see! While there are some features that don't make sense ('also', 'too', 'music'), most of the features included would also be words that a human might naturally identify as important. Words like 'love' and 'beautiful' and 'perfect' would clearly indicate a positive review, while 'bad' and 'fail' and 'bland' are clearly negative.\n",
    "\n",
    "The model has even identified words that would normally be considered good, but in this context are not. Since Pitchfork values original and creative music, then the very bland descriptors of 'interesting', 'nice', and 'pleasant' appear to be more commonly associated with bad reviews. Another feature worth pointing out is 'reissue'. While this is normally a neutral word, since only great albums normally get reissued, then this becomes a very positive word."
   ]
  },
  {
   "cell_type": "markdown",
   "metadata": {},
   "source": [
    "## Errors"
   ]
  },
  {
   "cell_type": "code",
   "execution_count": 24,
   "metadata": {},
   "outputs": [],
   "source": [
    "test_df = model_df.loc[y_test_indices]\n",
    "probs = log_model.predict_proba(X_test_vect)\n",
    "\n",
    "test_df['log_guess'] = log_pred\n",
    "test_df['rant_prob'] = probs[:,0]\n",
    "test_df['rave_prob'] = probs[:,1]\n",
    "test_df['prob_dif'] = test_df.apply(lambda x: abs(x.rant_prob - x.rave_prob), axis = 1)"
   ]
  },
  {
   "cell_type": "code",
   "execution_count": 25,
   "metadata": {},
   "outputs": [
    {
     "data": {
      "image/png": "[encoded data removed]",
      "text/plain": [
       "<Figure size 864x432 with 2 Axes>"
      ]
     },
     "metadata": {
      "needs_background": "light"
     },
     "output_type": "display_data"
    }
   ],
   "source": [
    "fig, (ax1, ax2) = plt.subplots(1,2,figsize = (12,6), sharey = True)\n",
    "\n",
    "ax1.hist(test_df[test_df.log_guess != test_df.rave].prob_dif);\n",
    "ax1.set_xlabel('Probability Difference')\n",
    "ax1.set_ylabel('Number of Reviews')\n",
    "ax1.set_title('Difference Between Probabilities on Mislabeld Data');\n",
    "ax2.hist(test_df[test_df.log_guess == test_df.rave].prob_dif);\n",
    "ax2.set_xlabel('Probability Difference')\n",
    "ax2.set_title('Difference Between Probabilities on Correctly Labeled Data');"
   ]
  },
  {
   "cell_type": "markdown",
   "metadata": {},
   "source": [
    "The model appears to be very confident on the correctly labeled data. On the mislabeled data, the difference between the probabilities is fairly uniform. It's highly unlikely that changing the boundary for positive/negative in the model would have any positive effect on the accuracy. Most likely this model is a fairly optimal logistic regression model given the data. Improvements could possibly occur through more preprocessing of the data or using an alternative model, such as a CNN, which has been shown to be highly effective at sentiment analysis at the sentence level (although much, much, much slower). \n",
    "\n",
    "I want to point out that Naive Bayes is okay for this data, but nowhere near how logisitic regression performed."
   ]
  },
  {
   "cell_type": "markdown",
   "metadata": {},
   "source": [
    "## Neutral Data"
   ]
  },
  {
   "cell_type": "code",
   "execution_count": 26,
   "metadata": {},
   "outputs": [
    {
     "name": "stdout",
     "output_type": "stream",
     "text": [
      "Of the 13537 neutral reviews, the logistic regression model classified \n",
      " 5292 as negative \n",
      " 8245 as positive\n"
     ]
    }
   ],
   "source": [
    "#Create DataFrame of neutral data that was excluded\n",
    "neutral_df = df[(df.score > 6.2) & (df.score < 8)].copy()\n",
    "\n",
    "#Get reviews and score\n",
    "X_neu = neutral_df.review\n",
    "y_neu = neutral_df.score\n",
    "\n",
    "#Vectorize X\n",
    "X_neu_vect = vect.transform(X_neu)\n",
    "neu_guess = log_model.predict(X_neu_vect)\n",
    "\n",
    "neu_count = Counter(neu_guess)\n",
    "neutral_df['pred'] = neu_guess\n",
    "\n",
    "print('Of the {0} neutral reviews, the logistic regression model classified \\n {1} as negative \\n {2} as positive'.format(neutral_df.shape[0], neu_count[0], neu_count[1]))"
   ]
  },
  {
   "cell_type": "code",
   "execution_count": 27,
   "metadata": {},
   "outputs": [],
   "source": [
    "#Create a DataFrame with percentage of scores\n",
    "pre_df = []\n",
    "for group, member in neutral_df.groupby('score'):\n",
    "    td_0 = dict()\n",
    "    td_1 = dict()\n",
    "    \n",
    "    td_0['score'] = group\n",
    "    td_0['category'] = 0\n",
    "    td_0['pct'] = member[member.pred == 0].shape[0] / member.shape[0] * 100\n",
    "    \n",
    "    td_1['score'] = group\n",
    "    td_1['category'] = 1\n",
    "    td_1['pct'] = member[member.pred == 1].shape[0] / member.shape[0] * 100\n",
    "    \n",
    "    \n",
    "    \n",
    "    pre_df.append(td_0)\n",
    "    pre_df.append(td_1)\n",
    "    \n",
    "plot_df = pd.DataFrame(pre_df)"
   ]
  },
  {
   "cell_type": "code",
   "execution_count": 28,
   "metadata": {},
   "outputs": [
    {
     "data": {
      "image/png": "[encoded data removed]",
      "text/plain": [
       "<Figure size 720x720 with 1 Axes>"
      ]
     },
     "metadata": {
      "needs_background": "light"
     },
     "output_type": "display_data"
    }
   ],
   "source": [
    "plt.figure(figsize = (10,10))\n",
    "sns.barplot(x = 'score', y = 'pct', hue = 'category', data = plot_df);"
   ]
  },
  {
   "cell_type": "markdown",
   "metadata": {},
   "source": [
    "The overall trend makes sense, with a higher percentage of scores near $8$ being classified as positive and more scores near $6.2$ being classified as negative. It's interesting that over $25\\%$ of the $6.3$ reviews are still classified as positive; this lines up with the fact that our model had higher recall on the positive class, but lower precision.\n",
    "\n",
    "A continuation of this project would be to figure out how to include neutral classes without the accuracy plummeting."
   ]
  }
 ],
 "metadata": {
  "kernelspec": {
   "display_name": "Python 3",
   "language": "python",
   "name": "python3"
  },
  "language_info": {
   "codemirror_mode": {
    "name": "ipython",
    "version": 3
   },
   "file_extension": ".py",
   "mimetype": "text/x-python",
   "name": "python",
   "nbconvert_exporter": "python",
   "pygments_lexer": "ipython3",
   "version": "3.8.2"
  }
 },
 "nbformat": 4,
 "nbformat_minor": 4
}
